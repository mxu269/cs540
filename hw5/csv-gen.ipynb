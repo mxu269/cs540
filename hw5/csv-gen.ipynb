{
 "cells": [
  {
   "cell_type": "code",
   "execution_count": 34,
   "metadata": {},
   "outputs": [
    {
     "name": "stdout",
     "output_type": "stream",
     "text": [
      "  Category  Annual number of days  Five-year running average\n",
      "0  1855-56                    118                        NaN\n",
      "1  1856-57                    151                        NaN\n",
      "2  1857-58                    121                        NaN\n",
      "3  1858-59                     96                        NaN\n",
      "4  1859-60                    110                      119.0\n",
      "     year  days\n",
      "0    1855   118\n",
      "1    1856   151\n",
      "2    1857   121\n",
      "3    1858    96\n",
      "4    1859   110\n",
      "..    ...   ...\n",
      "162  2017    94\n",
      "163  2018    86\n",
      "164  2019    70\n",
      "165  2020    76\n",
      "166  2021    85\n",
      "\n",
      "[167 rows x 2 columns]\n"
     ]
    }
   ],
   "source": [
    "import pandas as pd\n",
    "\n",
    "# Load the CSV into a DataFrame\n",
    "df = pd.read_csv('chart.csv')\n",
    "\n",
    "# Display the first few rows of the DataFrame\n",
    "print(df.head())\n",
    "\n",
    "df = df.iloc[:, [0, 1]]\n",
    "df.iloc[:, 0] = df.iloc[:, 0].str[:4]\n",
    "df = df.iloc[0:167]\n",
    "df.columns = ['year', 'days']\n",
    "print(df)\n",
    "df.to_csv('hw5.csv', index=False)"
   ]
  }
 ],
 "metadata": {
  "kernelspec": {
   "display_name": "Python 3",
   "language": "python",
   "name": "python3"
  },
  "language_info": {
   "codemirror_mode": {
    "name": "ipython",
    "version": 3
   },
   "file_extension": ".py",
   "mimetype": "text/x-python",
   "name": "python",
   "nbconvert_exporter": "python",
   "pygments_lexer": "ipython3",
   "version": "3.10.10"
  }
 },
 "nbformat": 4,
 "nbformat_minor": 2
}
